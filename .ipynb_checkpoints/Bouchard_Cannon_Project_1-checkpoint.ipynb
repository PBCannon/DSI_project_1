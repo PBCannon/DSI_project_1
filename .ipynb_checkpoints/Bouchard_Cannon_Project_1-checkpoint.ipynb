{
 "cells": [
  {
   "cell_type": "markdown",
   "metadata": {},
   "source": [
    "<img src=\"http://imgur.com/1ZcRyrc.png\" style=\"float: left; margin: 15px; height: 80px\">\n",
    "\n",
    "# Project 1\n",
    "\n",
    "### Building \"Pokemon Stay\"\n",
    "\n",
    "---\n",
    "You are an analyst at a \"scrappy\" online gaming company that specializes in remakes of last year's fads.\n",
    "\n",
    "Your boss, who runs the product development team, is convinced that Pokemon Go's fatal flaw was that you had to actually move around outside. She has design mock-ups for a new game called Pokemon Stay: in this version players still need to move, but just from website to website. Pokemon gyms are now popular online destinations, and catching Pokemon in the \"wild\" simply requires browsing the internet for hours in the comfort of your home.\n",
    "\n",
    "She wants you to program a prototype version of the game, and analyze the planned content to help the team calibrate the design."
   ]
  },
  {
   "cell_type": "markdown",
   "metadata": {},
   "source": [
    "#### Package imports\n",
    "\n",
    "The pprint package below is the only package imported here, and it's not even strictly required to do any of the project. Printing python variables and objects with pprint can help to format them in a \"prettier\" way."
   ]
  },
  {
   "cell_type": "code",
   "execution_count": 1,
   "metadata": {},
   "outputs": [],
   "source": [
    "from pprint import pprint"
   ]
  },
  {
   "cell_type": "markdown",
   "metadata": {},
   "source": [
    "<img src=\"http://imgur.com/l5NasQj.png\" style=\"float: left; margin: 25px 15px 0px 0px; height: 25px\">\n",
    "\n",
    "## 1. Defining a player\n",
    "\n",
    "---\n",
    "\n",
    "The player variables are:\n",
    "\n",
    "    player_id : id code unique to each player (integer)\n",
    "    player_name : entered name of the player (string)\n",
    "    time_played : number of time played the game in minutes (float)\n",
    "    player_pokemon: the player's captured pokemon (dictionary)\n",
    "    gyms_visited: ids of the gyms that a player has visited (list)\n",
    "    \n",
    "Create the components for a player object by defining each of these variables. The dictionary and list variables should just be defined as empty; you can use any (correctly typed) values for the others."
   ]
  },
  {
   "cell_type": "code",
   "execution_count": 2,
   "metadata": {},
   "outputs": [
    {
     "data": {
      "text/plain": [
       "1"
      ]
     },
     "execution_count": 2,
     "metadata": {},
     "output_type": "execute_result"
    }
   ],
   "source": [
    "player_ID = 1\n",
    "player_ID"
   ]
  },
  {
   "cell_type": "code",
   "execution_count": 3,
   "metadata": {},
   "outputs": [
    {
     "data": {
      "text/plain": [
       "'hiro'"
      ]
     },
     "execution_count": 3,
     "metadata": {},
     "output_type": "execute_result"
    }
   ],
   "source": [
    "player_name = 'hiro'\n",
    "player_name"
   ]
  },
  {
   "cell_type": "code",
   "execution_count": 4,
   "metadata": {},
   "outputs": [
    {
     "data": {
      "text/plain": [
       "121.45"
      ]
     },
     "execution_count": 4,
     "metadata": {},
     "output_type": "execute_result"
    }
   ],
   "source": [
    "time_played = 121.45\n",
    "time_played"
   ]
  },
  {
   "cell_type": "code",
   "execution_count": 5,
   "metadata": {},
   "outputs": [
    {
     "data": {
      "text/plain": [
       "{}"
      ]
     },
     "execution_count": 5,
     "metadata": {},
     "output_type": "execute_result"
    }
   ],
   "source": [
    "player_pokemon = {}\n",
    "player_pokemon"
   ]
  },
  {
   "cell_type": "code",
   "execution_count": 6,
   "metadata": {},
   "outputs": [
    {
     "data": {
      "text/plain": [
       "[]"
      ]
     },
     "execution_count": 6,
     "metadata": {},
     "output_type": "execute_result"
    }
   ],
   "source": [
    "gyms_visited = []\n",
    "gyms_visited"
   ]
  },
  {
   "cell_type": "code",
   "execution_count": 7,
   "metadata": {},
   "outputs": [],
   "source": [
    "player_1 = {'player_ID' : 1,\n",
    "        'player_name' : 'hiro',\n",
    "        'time_played' : 121.45,\n",
    "        'player_pokemon' : {},\n",
    "        'gyms_visited' : []}"
   ]
  },
  {
   "cell_type": "markdown",
   "metadata": {},
   "source": [
    "<img src=\"http://imgur.com/l5NasQj.png\" style=\"float: left; margin: 25px 15px 0px 0px; height: 25px\">\n",
    "\n",
    "## 2. Defining \"gym\" locations\n",
    "\n",
    "---\n",
    "\n",
    "As the sole programmer, Pokemon Stay will have to start small. To begin, there will be 10 different gym location websites on the internet. The gym locations are:\n",
    "\n",
    "    1. 'reddit.com'\n",
    "    2. 'amazon.com'\n",
    "    3. 'twitter.com'\n",
    "    4. 'linkedin.com'\n",
    "    5. 'ebay.com'\n",
    "    6. 'netflix.com'\n",
    "    7. 'sporcle.com'\n",
    "    8. 'stackoverflow.com'\n",
    "    9. 'github.com'\n",
    "    10. 'quora.com'\n",
    "\n",
    "1. Set up a list of all the gym locations. This will be a list of strings.\n",
    "2. Append two of these locations to your player's list of visited gyms.\n",
    "3. Print the list."
   ]
  },
  {
   "cell_type": "code",
   "execution_count": 8,
   "metadata": {},
   "outputs": [],
   "source": [
    "gym_locations = ['reddit.com', 'amazon.com', 'twitter.com', 'linkedin.com', 'ebay.com', 'netflix.com', 'sporcle.com', 'stackoverflow.com', 'github.com', 'quora.com']"
   ]
  },
  {
   "cell_type": "code",
   "execution_count": 9,
   "metadata": {},
   "outputs": [
    {
     "name": "stdout",
     "output_type": "stream",
     "text": [
      "{'gyms_visited': ['reddit.com', 'amazon.com'],\n",
      " 'player_ID': 1,\n",
      " 'player_name': 'hiro',\n",
      " 'player_pokemon': {},\n",
      " 'time_played': 121.45}\n"
     ]
    }
   ],
   "source": [
    "# Player 1 has visited reddit.com and amazon.com gym locations\n",
    "# gym locations added to the gyms_visited key in player 1\n",
    "\n",
    "player_1['gyms_visited'].append(gym_locations[0])\n",
    "player_1['gyms_visited'].append(gym_locations[1])\n",
    "\n",
    "#verification \n",
    "pprint(player_1)"
   ]
  },
  {
   "cell_type": "markdown",
   "metadata": {},
   "source": [
    "<img src=\"http://imgur.com/l5NasQj.png\" style=\"float: left; margin: 25px 15px 0px 0px; height: 25px\">\n",
    "\n",
    "## 3. Create a pokedex\n",
    "\n",
    "---\n",
    "\n",
    "We also need to create some pokemon to catch. Each pokemon will be defined by these variables:\n",
    "\n",
    "    pokemon_id : unique identifier for each pokemon (integer)\n",
    "    name : the name of the pokemon (string)\n",
    "    type : the category of pokemon (string)\n",
    "    hp : base hitpoints (integer)\n",
    "    attack : base attack (integer)\n",
    "    defense : base defense (integer)\n",
    "    special_attack : base special attack (integer)\n",
    "    special_defense : base sepecial defense (integer)\n",
    "    speed : base speed (integer)\n",
    "\n",
    "We are only going to create 3 different pokemon with these `pokemon_id` and `pokemon_name` values:\n",
    "\n",
    "    1 : 'charmander'\n",
    "    2 : 'squirtle'\n",
    "    3 : 'bulbasaur'\n",
    "\n",
    "Create a dictionary that will contain the pokemon. The keys of the dictionary will be the `pokemon_id` and the values will themselves dictionaries that contain the other pokemon variables. The structure of the pokedex dictionary will start like so:\n",
    "     \n",
    "     {\n",
    "         1: {\n",
    "                 'name':'charmander',\n",
    "                 'type':'fire',\n",
    "                 ...\n",
    "                 \n",
    "The `type` of charmander, squirtle, and bulbasaur should be `'fire'`, `'water'`, and `'poison'` respectively. The other values are up to you, make them anything you like!\n",
    "\n",
    "Print (or pretty print) the pokedex dictionary with the 3 pokemon."
   ]
  },
  {
   "cell_type": "code",
   "execution_count": 10,
   "metadata": {},
   "outputs": [],
   "source": [
    "#Manually creating our dictionary for a select number of pokemons\n",
    "\n",
    "pokedex = {\n",
    "    1: {\n",
    "         'name' :'charmander',\n",
    "         'type' :'Fire',\n",
    "         'hp' : 39, \n",
    "         'attack' : 52,\n",
    "         'defense' : 43, \n",
    "         'special_attack' : 60, \n",
    "         'special_defense' :  50, \n",
    "         'speed' : 65},\n",
    "     \n",
    "    2: {                      \n",
    "         'name' :'squirtle',\n",
    "         'type' :'Water',\n",
    "         'hp' : 44, \n",
    "         'attack' : 48,\n",
    "         'defense' : 65,\n",
    "         'special_attack': 50,\n",
    "         'special_defense':  54,\n",
    "         'speed' : 43},\n",
    "    3: {\n",
    "         'name' :'bulbasaur',\n",
    "         'type' :'Poison',\n",
    "         'hp' : 45,\n",
    "         'attack' : 49,\n",
    "         'defense' : 49,\n",
    "         'special_attack' : 65,\n",
    "         'special_defense' :  65,\n",
    "         'speed' : 45}\n",
    "    }"
   ]
  },
  {
   "cell_type": "code",
   "execution_count": 11,
   "metadata": {
    "scrolled": true
   },
   "outputs": [
    {
     "name": "stdout",
     "output_type": "stream",
     "text": [
      "{1: {'attack': 52,\n",
      "     'defense': 43,\n",
      "     'hp': 39,\n",
      "     'name': 'charmander',\n",
      "     'special_attack': 60,\n",
      "     'special_defense': 50,\n",
      "     'speed': 65,\n",
      "     'type': 'Fire'},\n",
      " 2: {'attack': 48,\n",
      "     'defense': 65,\n",
      "     'hp': 44,\n",
      "     'name': 'squirtle',\n",
      "     'special_attack': 50,\n",
      "     'special_defense': 54,\n",
      "     'speed': 43,\n",
      "     'type': 'Water'},\n",
      " 3: {'attack': 49,\n",
      "     'defense': 49,\n",
      "     'hp': 45,\n",
      "     'name': 'bulbasaur',\n",
      "     'special_attack': 65,\n",
      "     'special_defense': 65,\n",
      "     'speed': 45,\n",
      "     'type': 'Poison'}}\n"
     ]
    }
   ],
   "source": [
    "#verify pokedex structure\n",
    "pprint(pokedex)"
   ]
  },
  {
   "cell_type": "markdown",
   "metadata": {},
   "source": [
    "<img src=\"http://imgur.com/l5NasQj.png\" style=\"float: left; margin: 25px 15px 0px 0px; height: 25px\">\n",
    "\n",
    "## 4. Create a data structure for players\n",
    "\n",
    "---\n",
    "\n",
    "### 4.1 \n",
    "\n",
    "In order to maintain a database of multiple players, create a dictionary that keeps track of players indexed by `player_id`. \n",
    "\n",
    "The keys of the dictionary will be `player_id` and values will be dictionaries containing each player's variables (from question 1). \n",
    "\n",
    "Construct the `players` dictionary and insert the player that you defined in question 1, then print `players`."
   ]
  },
  {
   "cell_type": "code",
   "execution_count": 12,
   "metadata": {},
   "outputs": [],
   "source": [
    "players = {1: player_1}"
   ]
  },
  {
   "cell_type": "code",
   "execution_count": 13,
   "metadata": {},
   "outputs": [
    {
     "name": "stdout",
     "output_type": "stream",
     "text": [
      "{1: {'gyms_visited': ['reddit.com', 'amazon.com'],\n",
      "     'player_ID': 1,\n",
      "     'player_name': 'hiro',\n",
      "     'player_pokemon': {},\n",
      "     'time_played': 121.45}}\n"
     ]
    }
   ],
   "source": [
    "pprint(players)"
   ]
  },
  {
   "cell_type": "markdown",
   "metadata": {},
   "source": [
    "---\n",
    "\n",
    "### 4.2\n",
    "\n",
    "Create a new player with `player_id = 2` in the `players` dictionary. Leave the `'player_pokemon'` dictionary empty. Append `'alcatraz'` and `'pacific_beach'` to the `'gyms_visited'` list for player 2.\n",
    "\n",
    "The `'player_name'` and `'time_played'` values are up to you, but must be a string and float, respectively.\n",
    "\n",
    "Remember, the player_id is the key for the player in the players dictionary.\n",
    "\n",
    "Print the `players` dictionary with the new player inserted."
   ]
  },
  {
   "cell_type": "code",
   "execution_count": 14,
   "metadata": {},
   "outputs": [],
   "source": [
    "player_2 = {\n",
    "    2:{\n",
    "        'player_ID': 2,\n",
    "        'player_name': 'takeshi',\n",
    "        'time_player': 155,\n",
    "        'player_pokemon': {},\n",
    "        'gyms_visited': []}}"
   ]
  },
  {
   "cell_type": "code",
   "execution_count": 15,
   "metadata": {},
   "outputs": [],
   "source": [
    "player_2[2]['gyms_visited'] = ['alcatraz', 'pacific_beach']\n",
    "players.update(player_2)"
   ]
  },
  {
   "cell_type": "code",
   "execution_count": 16,
   "metadata": {},
   "outputs": [
    {
     "name": "stdout",
     "output_type": "stream",
     "text": [
      "{1: {'gyms_visited': ['reddit.com', 'amazon.com'],\n",
      "     'player_ID': 1,\n",
      "     'player_name': 'hiro',\n",
      "     'player_pokemon': {},\n",
      "     'time_played': 121.45},\n",
      " 2: {'gyms_visited': ['alcatraz', 'pacific_beach'],\n",
      "     'player_ID': 2,\n",
      "     'player_name': 'takeshi',\n",
      "     'player_pokemon': {},\n",
      "     'time_player': 155}}\n"
     ]
    }
   ],
   "source": [
    "pprint(players)"
   ]
  },
  {
   "cell_type": "markdown",
   "metadata": {},
   "source": [
    "<img src=\"http://imgur.com/l5NasQj.png\" style=\"float: left; margin: 25px 15px 0px 0px; height: 25px\">\n",
    "\n",
    "## 5. Add captured pokemon for each player\n",
    "\n",
    "---\n",
    "\n",
    "The `'player_pokemon'` keyed dictionaries for each player keep track of which of the pokemon each player has.\n",
    "\n",
    "The keys of the `'player_pokemon'` dictionaries are the pokemon ids that correspond to the ids in the `pokedex` dictionary you created earlier. The values are integers specifying the stats for the pokemon.\n",
    "\n",
    "Give player 1 a squirtle. Give player 2 charmander and a bulbasaur.\n",
    "\n",
    "Print the players dictionary after adding the pokemon for each player.\n"
   ]
  },
  {
   "cell_type": "code",
   "execution_count": 17,
   "metadata": {},
   "outputs": [],
   "source": [
    "from pprint import pprint\n",
    "players[1]['player_pokemon'][2] = pokedex[2]\n",
    "players[2]['player_pokemon'][1] = pokedex[1]\n",
    "players[2]['player_pokemon'][3] = pokedex[3]\n"
   ]
  },
  {
   "cell_type": "code",
   "execution_count": 18,
   "metadata": {},
   "outputs": [
    {
     "name": "stdout",
     "output_type": "stream",
     "text": [
      "{1: {'gyms_visited': ['reddit.com', 'amazon.com'],\n",
      "     'player_ID': 1,\n",
      "     'player_name': 'hiro',\n",
      "     'player_pokemon': {2: {'attack': 48,\n",
      "                            'defense': 65,\n",
      "                            'hp': 44,\n",
      "                            'name': 'squirtle',\n",
      "                            'special_attack': 50,\n",
      "                            'special_defense': 54,\n",
      "                            'speed': 43,\n",
      "                            'type': 'Water'}},\n",
      "     'time_played': 121.45},\n",
      " 2: {'gyms_visited': ['alcatraz', 'pacific_beach'],\n",
      "     'player_ID': 2,\n",
      "     'player_name': 'takeshi',\n",
      "     'player_pokemon': {1: {'attack': 52,\n",
      "                            'defense': 43,\n",
      "                            'hp': 39,\n",
      "                            'name': 'charmander',\n",
      "                            'special_attack': 60,\n",
      "                            'special_defense': 50,\n",
      "                            'speed': 65,\n",
      "                            'type': 'Fire'},\n",
      "                        3: {'attack': 49,\n",
      "                            'defense': 49,\n",
      "                            'hp': 45,\n",
      "                            'name': 'bulbasaur',\n",
      "                            'special_attack': 65,\n",
      "                            'special_defense': 65,\n",
      "                            'speed': 45,\n",
      "                            'type': 'Poison'}},\n",
      "     'time_player': 155}}\n"
     ]
    }
   ],
   "source": [
    "pprint(players)"
   ]
  },
  {
   "cell_type": "markdown",
   "metadata": {},
   "source": [
    "\n",
    "\n",
    "## 6. What gyms have players visited?\n",
    "\n",
    "---\n",
    "<img src=\"http://imgur.com/l5NasQj.png\" style=\"float: left; margin: 25px 15px 0px 0px; height: 25px\">\n",
    "### 6.1\n",
    "\n",
    "Write a for-loop that:\n",
    "\n",
    "1. Iterates through the `pokemon_gyms` list of gym locations you defined before.\n",
    "2. For each gym, iterate through each player in the `players` dictionary with a second, internal for-loop.\n",
    "3. If the player has visited the gym, print out \"[player] has visited [gym location].\", filling in [player] and [gym location] with the current player's name and current gym location."
   ]
  },
  {
   "cell_type": "code",
   "execution_count": 19,
   "metadata": {},
   "outputs": [
    {
     "name": "stdout",
     "output_type": "stream",
     "text": [
      "player 1 has visited reddit.com\n",
      "player 1 has visited amazon.com\n"
     ]
    }
   ],
   "source": [
    "# In order to identify only the gyms that are in our pokemon_gyms locations, we need to compare the gym_locations of our player to that list\n",
    "\n",
    "# The first loop consists of the gyms within the gym locations\n",
    "\n",
    "# For each, we compare this to the values of gyms_visited for each player (which here are extracted as a list)\n",
    "\n",
    "    # Then we ask if these are = to the gym location\n",
    "\n",
    "    # if yes, pr int the player number and the place visited\n",
    "\n",
    "    # if not, pass an continue\n",
    "\n",
    "for gym in gym_locations:\n",
    "    \n",
    "    for player in players:\n",
    "        \n",
    "        player_gyms_visited = players[player].get(\"gyms_visited\", \"\")\n",
    "        \n",
    "        for player_gym_visited in player_gyms_visited:\n",
    "        \n",
    "            if player_gym_visited == gym:\n",
    "                print('player', player, 'has visited', gym)\n",
    "           \n",
    "            else:\n",
    "                pass"
   ]
  },
  {
   "cell_type": "markdown",
   "metadata": {},
   "source": [
    "<img src=\"http://imgur.com/xDpSobf.png\" style=\"float: left; margin: 25px 15px 0px 0px; height: 25px\">\n",
    "### 6.2\n",
    "\n",
    "How many times did that loop run? If you have N gyms and also N players, how many times would it run as a function of N?\n",
    "\n",
    "Can you think of a more efficient way to accomplish the same thing? \n",
    "\n",
    "(You can write your answer as Markdown text.)"
   ]
  },
  {
   "cell_type": "code",
   "execution_count": 20,
   "metadata": {},
   "outputs": [],
   "source": [
    "#it will run n x n. This means for n = 10 gyms and n = 2 players and 2 gyms each, the loop runs 40x (10x2x2)\n",
    "\n",
    "#Option 1: You could have a user input. Verifying if the player entered that specific gym. This way you would only be asking whether the 'gym' == to the player[i]['gyms_visited']. In this case you would only do 4 loops (2x2)\n",
    "#Option 2: use a map function to search within the gym_locations. \n",
    "    "
   ]
  },
  {
   "cell_type": "markdown",
   "metadata": {},
   "source": [
    "<img src=\"http://imgur.com/l5NasQj.png\" style=\"float: left; margin: 25px 15px 0px 0px; height: 25px\">\n",
    "\n",
    "## 7. Calculate player \"power\".\n",
    "\n",
    "---\n",
    "\n",
    "Define a function that will calculate a player's \"power\". Player power is defined as the sum of the base statistics all of their pokemon.\n",
    "\n",
    "Your function will:\n",
    "\n",
    "1. Accept the `players` dictionary, `pokedex` dictionary, and a player_id as arguments.\n",
    "2. For the specified player_id, look up that player's pokemon and their level(s).\n",
    "3. Find and aggregate the attack and defense values for each of the player's pokemon from the `pokedex` dictionary.\n",
    "4. Print \"[player name]'s power is [player power].\", where the player power is the sum of the base statistics for all of their pokemon.\n",
    "5. Return the player's power value.\n",
    "\n",
    "Print out the pokemon power for each of your players."
   ]
  },
  {
   "cell_type": "code",
   "execution_count": 21,
   "metadata": {},
   "outputs": [],
   "source": [
    "# To return the player's power value (which is total strength of all the values of their pokemons)\n",
    "    # I first make 2 lists\n",
    "        # List 1 (pokedex_pokemons) contains the names of all the pokemons in the pokedex\n",
    "        # list 2 (player_pokemons) contains all the names of the player's pokemons\n",
    "    # Then I compare whether the name of the pokemon in the player's pokedex is also present in the pokedex\n",
    "    # If it is, I append the interger values only to a list. \n",
    "    # I then sum the power of the player using numpy. \n",
    "    # If the pokemon doesn't appear in the pokedex, the loop will not do anything with the value (pass). \n",
    "\n",
    "import numpy as np\n",
    "\n",
    "def what_is_your_pokemon_strength(player_list, player, pokemon_list):\n",
    "    \n",
    "    pokedex_pokemons = [(pokemon_list[pokemon].get('name', '')) for pokemon in pokemon_list]\n",
    "    player_pokemons = [(player_list[player]['player_pokemon'].get('name',''))]\n",
    "    \n",
    "    for player_pokemon in player_pokemons:\n",
    "        \n",
    "        for pokedex_pokemon in pokedex_pokemons:\n",
    "            \n",
    "            if player_pokemon == pokedex_pokemon:\n",
    "                \n",
    "                sub_pokemon_value_list = ((player_list[player]['player_pokemon']).values())\n",
    "                \n",
    "                strength_pokemon = np.sum([pokemon_value for pokemon_value in sub_pokemon_value_list if type(pokemon_value) == int])\n",
    "                \n",
    "                print('player', player, 'power is:',  strength_pokemon)\n",
    "            \n",
    "            else: \n",
    "                pass\n",
    "\n",
    "            \n",
    "# Here are the strengths for both players\n",
    "\n",
    "what_is_your_pokemon_strength(players, 1, pokedex) \n",
    "what_is_your_pokemon_strength(players, 2, pokedex) \n",
    "\n",
    "\n"
   ]
  },
  {
   "cell_type": "markdown",
   "metadata": {},
   "source": [
    "<img src=\"http://imgur.com/l5NasQj.png\" style=\"float: left; margin: 25px 15px 0px 0px; height: 25px\">\n",
    "\n",
    "## 8. Load a pokedex file containing all the pokemon\n",
    "\n",
    "---\n",
    "\n",
    "### 8.1\n",
    "\n",
    "While you were putting together the prototype code, your colleagues were preparing a dataset of Pokemon and their attributes. (This was a rush job, so they may have picked some crazy values for some...)\n",
    "\n",
    "The code below loads information from a comma separated value (csv) file. You need to parse this string into a more useable format. The format of the string is:\n",
    "\n",
    "- Rows are separated by newline characters: \\n\n",
    "- Columns are separated by commas: ,\n",
    "- All cells in the csv are double quoted. Ex: \"PokedexNumber\" is the first cell of the first row.\n",
    "\n",
    "\n",
    "Using for-loops, create a list of lists where each list within the overall list is a row of the csv/matrix, and each element in that list is a cell in that row. Additional criteria:\n",
    "\n",
    "1. Quotes are removed from each cell item.\n",
    "2. Numeric column values are converted to floats.\n",
    "3. There are some cells that are empty and have no information. For these cells put a -1 value in place.\n",
    "\n",
    "Your end result is effectively a matrix. Each list in the outer list is a row, and the *j*th elements of list together form the *j*th column, which represents a data attribute. The first three lists in your pokedex list should look like this:\n",
    "\n",
    "    ['PokedexNumber', 'Name', 'Type', 'Total', 'HP', 'Attack', 'Defense', 'SpecialAttack', 'SpecialDefense', 'Speed']\n",
    "    [1.0, 'Bulbasaur', 'GrassPoison', 318.0, 45.0, 49.0, 49.0, 65.0, 65.0, 45.0]\n",
    "    [2.0, 'Ivysaur', 'GrassPoison', 405.0, 60.0, 62.0, 63.0, 80.0, 80.0, 60.0]"
   ]
  },
  {
   "cell_type": "code",
   "execution_count": 22,
   "metadata": {},
   "outputs": [
    {
     "name": "stdout",
     "output_type": "stream",
     "text": [
      "Opening File\n",
      "File Closed\n"
     ]
    }
   ],
   "source": [
    "# Opening file, extracting the data in a raw format. \n",
    "# Then closing the file to avoid making changes to the original file\n",
    "\n",
    "import csv\n",
    "print ('Opening File')\n",
    "\n",
    "raw_pd = ''\n",
    "pokedex_file = 'pokedex_basic.csv'\n",
    "with open(pokedex_file, 'r') as f:\n",
    "    raw_pokedex = f.read()\n",
    "\n",
    "f.close()\n",
    "print('File Closed')\n",
    "# print(raw_pd) \n",
    "# Print function not working to make the code cleaner\n",
    "# I first looked at the data and verified that the information and structure were correct. \n",
    "\n",
    "# CLeaning the data into a user-friendly format\n",
    "\n",
    "# Splitting each row of the data into a separate line\n",
    "\n",
    "#Visualize what we have at this point\n",
    "#raw_pokedex_lines_split = raw_pokedex.splitlines()\n",
    "#for line in raw_pokedex_lines_split:\n",
    "#    print (line)\n",
    "    \n",
    "    "
   ]
  },
  {
   "cell_type": "code",
   "execution_count": 23,
   "metadata": {},
   "outputs": [],
   "source": [
    "# Rep/lace the quotes in each word  \n",
    "# First I made a list of the puctuations I am trying to remove. punctuation list\n",
    "# Then I went through each word using enumerate\n",
    "# then for each character in each word, if the character was within my puctuation list, replaced it with a space\n",
    "# I saved it all in another list \n",
    "raw_pokedex \n",
    "punctuation = ['\"']\n",
    "for a_word in enumerate(raw_pokedex):\n",
    "    for a_character in a_word:\n",
    "        for a_punctuation in punctuation:\n",
    "            if a_character == a_punctuation:\n",
    "                 raw_pokedex_quotes_removed = raw_pokedex.replace(a_character, '')\n",
    "\n",
    "# visualualize results\n",
    "#print(raw_pokedex_quotes_removed)            "
   ]
  },
  {
   "cell_type": "code",
   "execution_count": 24,
   "metadata": {},
   "outputs": [],
   "source": [
    "pokedex_lines = raw_pokedex_quotes_removed.splitlines()\n",
    "pokedex_lines_split = [line.split(',') for line in pokedex_lines]\n",
    "# visualize_results \n",
    "# pprint(pokedex_lines_split)"
   ]
  },
  {
   "cell_type": "code",
   "execution_count": 25,
   "metadata": {},
   "outputs": [
    {
     "name": "stdout",
     "output_type": "stream",
     "text": [
      "[['PokedexNumber', 'Name', 'Type', 'Total', 'HP', 'Attack', 'Defense', 'SpecialAttack', 'SpecialDefense', 'Speed'], [1.0, 'Bulbasaur', 'GrassPoison', 318.0, 45.0, 49.0, 49.0, 65.0, 65.0, 45.0], [2.0, 'Ivysaur', 'GrassPoison', 405.0, 60.0, 62.0, 63.0, 80.0, 80.0, 60.0], [3.0, 'Venusaur', 'GrassPoison', 525.0, 80.0, 82.0, 83.0, 100.0, 100.0, 80.0], [3.0, 'VenusaurMega Venusaur', 'GrassPoison', 625.0, 80.0, 100.0, 123.0, 122.0, 120.0, 80.0], [4.0, 'Charmander', 'Fire', 309.0, 39.0, 52.0, 43.0, 60.0, 50.0, 65.0], [5.0, 'Charmeleon', 'Fire', 405.0, 58.0, 64.0, 58.0, 80.0, 65.0, 80.0], [6.0, 'Charizard', 'FireFlying', 534.0, 78.0, 84.0, 78.0, 109.0, 85.0, 100.0], [6.0, 'CharizardMega Charizard X', 'FireDragon', 634.0, 78.0, 130.0, 111.0, 130.0, 85.0, 100.0], [6.0, 'CharizardMega Charizard Y', 'FireFlying', 634.0, 78.0, 104.0, 78.0, 159.0, 115.0, 100.0], [7.0, 'Squirtle', 'Water', 314.0, 44.0, 48.0, 65.0, 50.0, 64.0, 43.0]]\n"
     ]
    }
   ],
   "source": [
    "\n",
    "# Here we need to change the string numbers to floats, but keep the string words as strings.\n",
    "\n",
    "# The code here reads as such: \n",
    "    # For a line within my file, for a string within that line:\n",
    "        # try changing the string to a float -- if ok -- append it to a new list\n",
    "        # except if it fails -- append it as a string to the new list\n",
    "            # Once we have gone through that line, append the line to a longer list of your new lists\n",
    "\n",
    "My_Pokedex_lines = []\n",
    "\n",
    "for a_line in pokedex_lines_split:\n",
    "    new_list = []\n",
    "    for a_string in a_line:\n",
    "        try:\n",
    "             new_list.append(float(a_string))\n",
    "        except:\n",
    "            new_list.append(a_string)\n",
    "    My_Pokedex_lines.append(new_list)\n",
    "        \n",
    "# Here are the lines in our pokedex (First 10 only)\n",
    "print(My_Pokedex_lines[0:11])\n",
    "\n",
    "\n",
    "\n",
    "#text.digit() to see if its a digit \n",
    "\n"
   ]
  },
  {
   "cell_type": "markdown",
   "metadata": {},
   "source": [
    "<img src=\"http://imgur.com/xDpSobf.png\" style=\"float: left; margin: 25px 15px 0px 0px; height: 25px\">\n",
    "\n",
    "### 8.2 Parse the raw pokedex with list comprehensions\n",
    "\n",
    "---\n",
    "\n",
    "Perform the same parsing as above, but **using only a single list comprehension** instead of for loops. You may have nested list comprehensions within the main list comprehension! The output should be exactly the same."
   ]
  },
  {
   "cell_type": "code",
   "execution_count": null,
   "metadata": {},
   "outputs": [],
   "source": []
  },
  {
   "cell_type": "markdown",
   "metadata": {},
   "source": [
    "<img src=\"http://imgur.com/l5NasQj.png\" style=\"float: left; margin: 25px 15px 0px 0px; height: 25px\">\n",
    "\n",
    "## 9. Write a function to generate the full pokedex\n",
    "\n",
    "---\n",
    "\n",
    "Write a function that recreates the pokedex you made before, but with the data read in from the full pokemon file. The `PokedexNumber` should be used as the `pokemon_id` key values for the dictionary of pokemon.\n",
    "\n",
    "Your function should:\n",
    "\n",
    "1. Take the parsed pokedex information you created above as an argument.\n",
    "2. Return a dictionary in the same format as your original pokedex you created before containing the information from the parsed full pokedex file.\n",
    "\n",
    "To test the function, print out the pokemon with id = 100."
   ]
  },
  {
   "cell_type": "code",
   "execution_count": 26,
   "metadata": {
    "scrolled": true
   },
   "outputs": [],
   "source": [
    "# Generating a new pokedex in the format of a dictionary\n",
    "# First separate the data as key and value \n",
    "\n",
    "pokedex_keys = (My_Pokedex_lines[:1])[0]\n",
    "pokedex_values = (My_Pokedex_lines[1:])\n",
    "\n",
    "#verify\n",
    "#print(pokedex_keys)\n",
    "#pprint(pokedex_values)\n",
    "\n",
    "# make a sub dictionary via combining the pokedex keys and values\n",
    "\n",
    "nested_dictionary = []\n",
    "for i in range((len(pokedex_values))):\n",
    "    nested_dictionary.append(dict(zip(pokedex_keys, pokedex_values[i])))\n",
    "\n",
    "#print(nested_dictionary)\n",
    "\n",
    "# Make a list of numbers that span the range of 1 to the last number of pokemons\n",
    "number_of_pokemons = [n+1 for n in range(len(pokedex_values))]\n",
    "\n",
    "#Verify numbers\n",
    "#number_of_pokemons\n",
    "\n",
    "\n",
    "The_Pokedex = {number_of_pokemons[i]: nested_dictionary[i] for i in range(len(pokedex_values))}\n",
    "\n",
    "\n",
    "#Visualize our data. Verify that the last pokemon Volcanion (#800) is there. \n",
    "#The_Pokedex\n",
    "\n"
   ]
  },
  {
   "cell_type": "markdown",
   "metadata": {},
   "source": [
    "<img src=\"http://i.imgur.com/GCAf1UX.png\" style=\"float: left; margin: 25px 15px 0px 0px; height: 25px\">\n",
    "\n",
    "## 10. Write a function to generate a \"filtered\" pokedex\n",
    "---\n",
    "Your function should:\n",
    "1. Take the parsed pokedex information you created above as an argument.\n",
    "1. Take a dictionary as a parameter with keys matching the features of the Pokedex, filtering by exact match for string type values, and/or filter continuous variables specified value that is greater than or equal to the dictionary key parameter.\n",
    "1. Return multiple elements from the Pokedex\n",
    "\n",
    "Example:\n",
    "\n",
    "```python\n",
    "\n",
    "# Only filter based on parameters passed\n",
    "filter_options = {\n",
    "    'Attack':   25,\n",
    "    'Defense':  30,\n",
    "    'Type':     'Electric'\n",
    "}\n",
    "\n",
    "# Return records with attack >= 24, defense >= 30, and type == \"Electric\"\n",
    "# Also anticipate that other paramters can also be passed such as \"SpecialAttack\", \"Speed\", etc.\n",
    "filtered_pokedex(pokedex_data, filter=filter_options)\n",
    "\n",
    "# Example output:\n",
    "# [{'Attack': 30.0,\n",
    "#  'Defense': 50.0,\n",
    "#  'HP': 40.0,\n",
    "#  'Name': 'Voltorb',\n",
    "#  'SpecialAttack': 55.0,\n",
    "#  'SpecialDefense': 55.0,\n",
    "#  'Speed': 100.0,\n",
    "#  'Total': 330.0,\n",
    "#  'Type': 'Electric'},\n",
    "#  {'Attack': 30.0,\n",
    "#  'Defense': 33.0,\n",
    "#  'HP': 32.0,\n",
    "#  'Name': 'Pikachu',\n",
    "#  'SpecialAttack': 55.0,\n",
    "#  'SpecialDefense': 55.0,\n",
    "#  'Speed': 100.0,\n",
    "#  'Total': 330.0,\n",
    "#  'Type': 'Electric'},\n",
    "#  ... etc\n",
    "#  ]\n",
    "\n",
    "```\n",
    "\n"
   ]
  },
  {
   "cell_type": "code",
   "execution_count": 45,
   "metadata": {},
   "outputs": [
    {
     "name": "stdout",
     "output_type": "stream",
     "text": [
      "['Pikachu', 'Raichu', 'Electrode', 'Electabuzz', 'Jolteon', 'Flaaffy', 'Ampharos', 'Elekid', 'Raikou', 'Electrike', 'Manectric', 'ManectricMega Manectric', 'Plusle', 'Shinx', 'Luxio', 'Luxray', 'Pachirisu', 'Electivire', 'Blitzle', 'Zebstrika', 'Tynamo', 'Eelektrik', 'Eelektross']\n"
     ]
    }
   ],
   "source": [
    "\n",
    "# First, here is my list of filtering parameters. These can be any of the dictionary parameters, but the keys and value strings \n",
    "            # need to be exactly the same as in the dictionary. \n",
    "\n",
    "filtering_parameters = { 'Attack' : 45,\n",
    "                        'Defense':  30,\n",
    "                        'Type': 'Electric'\n",
    "                       }\n",
    "\n",
    "\n",
    "#This is my sub filtering list. It will contain all the pokemons that contain at least one of the criterias from the parameters.\n",
    "pokemon_sub_filtering_list = []\n",
    "\n",
    "\n",
    "# Description of this function:\n",
    "        # 1 - We loop through the pokemon information in the format of key : value items.\n",
    "            # 2 - For each key : value pair, another for loop analyses whether this information matches our filtering options. \n",
    "                # 3 -The filters can either be floats or strings, and if the key matches, the value must be either bigger or equal to the float or exactly the same as the string\n",
    "                    # 4 - if these are met, they are then appended to our sub filtering list\n",
    "                        # 5-  else this filter is passed and they go on to the next\n",
    "        # This creates our list of pokemons that contain at least one of the criteria, but we are looking for all criterias to match\n",
    "        # Using the Counter, we can get the number of times each pokemon name is listed in our sub list. \n",
    "        # The max amount of times it can appear is = length of our filtering parameters (in this case 3)\n",
    "        # We therefore make a comprehension that saves a new list which contain the Pokemon Names that meet all the criterias. \n",
    "        \n",
    "        # Go ahead. Test it out !\n",
    "        \n",
    "from collections import Counter        \n",
    "def pokemon_filtering(Pokemon_List, filtering_options):   \n",
    "    for pokemon_number, pokemon_info in Pokemon_List.items():\n",
    "    \n",
    "        for pokemon_info_key, pokemon_info_value in pokemon_info.items():\n",
    "                \n",
    "            for filtering_parameter_key, filtering_parameter_value in filtering_options.items():\n",
    "                \n",
    "                if (type(pokemon_info_value) == float and pokemon_info_key == filtering_parameter_key and pokemon_info_value >= filtering_parameter_value):\n",
    "                    pokemon_sub_filtering_list.append(pokemon_info['Name'])\n",
    "                    \n",
    "                if (type(pokemon_info_value) == str and pokemon_info_key == filtering_parameter_key and pokemon_info_value == filtering_parameter_value):\n",
    "                    pokemon_sub_filtering_list.append(pokemon_info['Name'])\n",
    "                    \n",
    "                else:\n",
    "                    pass\n",
    "                \n",
    "                \n",
    "    cnt = Counter(pokemon_sub_filtering_list)\n",
    "    \n",
    "    my_filtered_pokemons = [x for x, y in cnt.items() if y >= len(filtering_parameters)]\n",
    "   \n",
    "    print(my_filtered_pokemons)\n",
    "  \n",
    "\n",
    "pokemon_filtering(The_Pokedex, filtering_parameters)"
   ]
  },
  {
   "cell_type": "markdown",
   "metadata": {},
   "source": [
    "\n",
    "## 9. Descriptive statistics on the prototype pokedex\n",
    "\n",
    "<img src=\"http://imgur.com/l5NasQj.png\" style=\"float: left; margin: 25px 15px 0px 0px; height: 25px\">\n",
    "### 9.1\n",
    "\n",
    "What is the population mean and standard deviation of the \"Total\" attribute for all characters in the Pokedex?\n",
    "\n"
   ]
  },
  {
   "cell_type": "code",
   "execution_count": 28,
   "metadata": {},
   "outputs": [],
   "source": [
    "# To get the mean and standard deviation of the 'Total' attribute for all characters in the pokedex,\n",
    "# we must extract that value for each Pokemon\n",
    "\n",
    "# Here, I can make two lists at the same time. \n",
    "    # list 1 contains only the Total values pokemon_total_strengths_values_only,\n",
    "    # list 2 contains the 'name' key and the 'Total' value, extracted as a list of lists (** This list will be used later**)\n",
    "\n",
    "import numpy as np\n",
    "\n",
    "# the empty lists\n",
    "\n",
    "pokemon_total_strengths_values_only = []\n",
    "pokemon_total_strengths_names_and_values = []\n",
    "\n",
    "# For loop\n",
    "for pokemon_key, pokemon_info in The_Pokedex.items():\n",
    "    \n",
    "    for pokemon_info_key, pokemon_info_value in pokemon_info.items():\n",
    "        \n",
    "        if pokemon_info_key == 'Total':\n",
    "            \n",
    "            pokemon_total_strengths_values_only.append(pokemon_info[pokemon_info_key])\n",
    "            \n",
    "            \n",
    "    pokemon_total_strengths_names_and_values.append([pokemon_info['Name'], pokemon_info['Total']])\n",
    "\n",
    "    \n",
    "\n",
    "\n",
    "\n",
    "    "
   ]
  },
  {
   "cell_type": "code",
   "execution_count": 29,
   "metadata": {},
   "outputs": [
    {
     "data": {
      "text/plain": [
       "[318.0, 405.0, 525.0, 625.0, 309.0, 405.0, 534.0, 634.0, 634.0, 314.0, 405.0]"
      ]
     },
     "execution_count": 29,
     "metadata": {},
     "output_type": "execute_result"
    }
   ],
   "source": [
    "# First 10 of list\n",
    "pokemon_total_strengths_values_only[0:11]\n"
   ]
  },
  {
   "cell_type": "code",
   "execution_count": 30,
   "metadata": {},
   "outputs": [
    {
     "data": {
      "text/plain": [
       "[['Bulbasaur', 318.0],\n",
       " ['Ivysaur', 405.0],\n",
       " ['Venusaur', 525.0],\n",
       " ['VenusaurMega Venusaur', 625.0],\n",
       " ['Charmander', 309.0],\n",
       " ['Charmeleon', 405.0],\n",
       " ['Charizard', 534.0],\n",
       " ['CharizardMega Charizard X', 634.0],\n",
       " ['CharizardMega Charizard Y', 634.0],\n",
       " ['Squirtle', 314.0],\n",
       " ['Wartortle', 405.0]]"
      ]
     },
     "execution_count": 30,
     "metadata": {},
     "output_type": "execute_result"
    }
   ],
   "source": [
    "# First 10 of list\n",
    "pokemon_total_strengths_names_and_values[0:11]\n",
    "        "
   ]
  },
  {
   "cell_type": "code",
   "execution_count": 31,
   "metadata": {},
   "outputs": [
    {
     "name": "stdout",
     "output_type": "stream",
     "text": [
      "Mean Pokemon Power: 435 \n",
      " Stdev Pokemon Power : 119\n"
     ]
    }
   ],
   "source": [
    "# Use numpy to calculate mean and standard deviation\n",
    "\n",
    "mean_power = np.mean(pokemon_total_strengths_values_only)\n",
    "std_power = np.std(pokemon_total_strengths_values_only) \n",
    "\n",
    "# For easier read out print the mean & standard deviation of the pokemon power as intergers\n",
    "print('Mean Pokemon Power:', int(mean_power),'\\n', 'Stdev Pokemon Power :', int(std_power) )\n"
   ]
  },
  {
   "cell_type": "markdown",
   "metadata": {},
   "source": [
    "<img src=\"http://imgur.com/l5NasQj.png\" style=\"float: left; margin: 25px 15px 0px 0px; height: 25px\">\n",
    "### 9.2\n",
    "\n",
    "The game is no fun if the characters are wildly unbalanced! Are any characters \"overpowered\", which we'll define as having a \"Total\" more than three standard deviations from the population mean?"
   ]
  },
  {
   "cell_type": "code",
   "execution_count": 32,
   "metadata": {},
   "outputs": [],
   "source": [
    "#calculating the cut off number for a weak pokemon and for a strong pokemon\n",
    "very_weak = mean_power - 3 * std_power\n",
    "very_strong = mean_power + 3 * std_power\n"
   ]
  },
  {
   "cell_type": "code",
   "execution_count": 33,
   "metadata": {},
   "outputs": [
    {
     "name": "stdout",
     "output_type": "stream",
     "text": [
      "If none are returned, none have powers less than or equal to the mean - 3*stdev\n"
     ]
    }
   ],
   "source": [
    "for pokemon_strength_info in pokemon_total_strengths_names_and_values:\n",
    "    if pokemon_strength_info[1] <= very_weak:\n",
    "        print(pokemon_strength_info[0], 'is very weak, his strength is below', int(very_weak), 'his strenghth equals to', pokemon_strength_info(x[1]))\n",
    "else:\n",
    "    print('If none are returned, none have powers less than or equal to the mean - 3*stdev')"
   ]
  },
  {
   "cell_type": "code",
   "execution_count": 34,
   "metadata": {},
   "outputs": [
    {
     "name": "stdout",
     "output_type": "stream",
     "text": [
      "MewtwoMega Mewtwo X is very strong, his strength is above:  795 his strength equals to:  800\n",
      "If none are returned, none have powers greater than or equal to the mean + 3*stdev\n"
     ]
    }
   ],
   "source": [
    "for pokemon_strength_info in pokemon_total_strengths_names_and_values:\n",
    "    if pokemon_strength_info[1] >= very_strong:\n",
    "        print(pokemon_strength_info[0], 'is very strong, his strength is above: ', int(very_strong), 'his strength equals to: ', int(pokemon_strength_info[1]))\n",
    "else:\n",
    "    print('If none are returned, none have powers greater than or equal to the mean + 3*stdev')"
   ]
  },
  {
   "cell_type": "markdown",
   "metadata": {},
   "source": [
    "<img src=\"http://imgur.com/xDpSobf.png\" style=\"float: left; margin: 25px 15px 0px 0px; height: 25px\">\n",
    "\n",
    "## 10. Calibrate the frequency of Pokemon\n",
    "\n",
    "The design team wants you to make the powerful Pokemon rare, and the weaklings more common. How would you set the probability $p_i$ of finding Pokemon *i* each time a player visits a gym?\n",
    "\n",
    "Write a function that takes in a Pokedex number and returns a value $p_i$ for that character.\n",
    "\n",
    "Hint: there are many ways you could do this. What do _you_ think makes sense? Start with simplifying assumptions: for example, you could assume that the probabilities of encountering any two Pokemon on one visit to a gym are independent of each other."
   ]
  },
  {
   "cell_type": "code",
   "execution_count": 35,
   "metadata": {},
   "outputs": [],
   "source": [
    "#Downloading the proper packages to visualize the data and for the calculations\n",
    "%matplotlib inline\n",
    "import numpy as np\n",
    "import seaborn as sns\n",
    "import matplotlib.pyplot as plt"
   ]
  },
  {
   "cell_type": "code",
   "execution_count": 36,
   "metadata": {},
   "outputs": [],
   "source": [
    "from scipy.stats import expon\n",
    "list_data_expo = []\n",
    "\n",
    "data_expo = expon.rvs(scale=1,loc=0,size=800)\n",
    "data_expo_2 = np.sort(data_expo) #Sort small to big\n",
    "data_expo_1 = data_expo_2[::-1] # Sort big to small"
   ]
  },
  {
   "cell_type": "code",
   "execution_count": 37,
   "metadata": {},
   "outputs": [],
   "source": [
    "for exponential_numbers in data_expo_1: # divide the numbers by sum of numbers\n",
    "    list_data_expo.append(exponential_numbers/np.sum(data_expo_1))\n",
    "# Sum of probability is then 1"
   ]
  },
  {
   "cell_type": "code",
   "execution_count": 45,
   "metadata": {},
   "outputs": [
    {
     "data": {
      "text/plain": [
       "[Text(0, 0.5, 'Frequency'), Text(0.5, 0, 'Exponential Distribution')]"
      ]
     },
     "execution_count": 45,
     "metadata": {},
     "output_type": "execute_result"
    },
    {
     "data": {
      "image/png": "[encoded data removed]",
      "text/plain": [
       "<Figure size 360x360 with 1 Axes>"
      ]
     },
     "metadata": {},
     "output_type": "display_data"
    }
   ],
   "source": [
    "# Visualization of the data using a plot. \n",
    "sns.set(color_codes=True)\n",
    "sns.set(rc={'figure.figsize':(5,5)})\n",
    "ax = sns.distplot(list_data_expo,\n",
    "                  kde=True,\n",
    "                  bins=800,\n",
    "                  color='darkred',\n",
    "                  hist_kws={\"linewidth\": 20,'alpha':1})\n",
    "ax.set(xlabel='Exponential Distribution', ylabel='Frequency')"
   ]
  },
  {
   "cell_type": "code",
   "execution_count": 39,
   "metadata": {},
   "outputs": [],
   "source": [
    "from operator import itemgetter \n",
    "pokemon_total_strengths_sorted = sorted(pokemon_total_strengths_names_and_values, key=itemgetter(1)) \n",
    "# sorted by the second value of our list, which is pokemon total strength"
   ]
  },
  {
   "cell_type": "code",
   "execution_count": 40,
   "metadata": {},
   "outputs": [],
   "source": [
    "for i in range(len(pokemon_total_strengths_sorted)): # append probability ot our list\n",
    "    pokemon_total_strengths_sorted[i].append(list_data_expo[i])"
   ]
  },
  {
   "cell_type": "code",
   "execution_count": 41,
   "metadata": {},
   "outputs": [
    {
     "data": {
      "text/plain": [
       "[['Sunkern', 180.0, 0.00840890532609508],\n",
       " ['Azurill', 190.0, 0.00781245673430938],\n",
       " ['Kricketot', 194.0, 0.007119879397240887],\n",
       " ['Caterpie', 195.0, 0.006620946698963812],\n",
       " ['Weedle', 195.0, 0.00652049674168491],\n",
       " ['Wurmple', 195.0, 0.0063797871819377405],\n",
       " ['Ralts', 198.0, 0.006079786726259011],\n",
       " ['Magikarp', 200.0, 0.006010892660170531],\n",
       " ['Feebas', 200.0, 0.005930797915799002],\n",
       " ['Scatterbug', 200.0, 0.005090267948339677],\n",
       " ['Metapod', 205.0, 0.005076332362922766]]"
      ]
     },
     "execution_count": 41,
     "metadata": {},
     "output_type": "execute_result"
    }
   ],
   "source": [
    "pokemon_total_strengths_sorted[0:11]"
   ]
  },
  {
   "cell_type": "code",
   "execution_count": 42,
   "metadata": {},
   "outputs": [],
   "source": [
    "median = np.median(list_data_expo)\n",
    "mean = np.mean(list_data_expo)"
   ]
  },
  {
   "cell_type": "code",
   "execution_count": 43,
   "metadata": {},
   "outputs": [
    {
     "name": "stdout",
     "output_type": "stream",
     "text": [
      "Pikachu is in the common range\n",
      "MewtwoMega Mewtwo X is in the rare range\n"
     ]
    }
   ],
   "source": [
    "def probability_of_pokemon(pokemon_list, pokemon_name):\n",
    "    for x in pokemon_list:\n",
    "        if (x[0] == pokemon_name and x[2] >= mean):\n",
    "            print(pokemon_name, 'is in the common range')\n",
    "        if (x[0] == pokemon_name and x[2]  <= mean and  x[2] <= median):\n",
    "            print(pokemon_name, 'is in the rare range')  \n",
    "            \n",
    "probability_of_pokemon(pokemon_total_strengths_sorted, 'Pikachu')\n",
    "probability_of_pokemon(pokemon_total_strengths_sorted, 'MewtwoMega Mewtwo X')"
   ]
  },
  {
   "cell_type": "code",
   "execution_count": 44,
   "metadata": {},
   "outputs": [
    {
     "name": "stdout",
     "output_type": "stream",
     "text": [
      " You are 2042 times more likely to catch a common pokemon a Pikachu with a strength:  320 than a MewtwoMega Mewtwo X with a strength of :  800\n"
     ]
    }
   ],
   "source": [
    "#probability of getting the rarest versus a common Pokemon (Top 200)\n",
    "print(' You are', int(pokemon_total_strengths_sorted[175][2]/  pokemon_total_strengths_sorted[799][2]), 'times more likely to catch a common pokemon a', pokemon_total_strengths_sorted[175][0], 'with a strength: ' , int(pokemon_total_strengths_sorted[175][1]), 'than a', pokemon_total_strengths_sorted[799][0], 'with a strength of : ',int(pokemon_total_strengths_sorted[799][1]))"
   ]
  }
 ],
 "metadata": {
  "anaconda-cloud": {},
  "kernelspec": {
   "display_name": "Python 3",
   "language": "python",
   "name": "python3"
  },
  "language_info": {
   "codemirror_mode": {
    "name": "ipython",
    "version": 3
   },
   "file_extension": ".py",
   "mimetype": "text/x-python",
   "name": "python",
   "nbconvert_exporter": "python",
   "pygments_lexer": "ipython3",
   "version": "3.7.1"
  }
 },
 "nbformat": 4,
 "nbformat_minor": 2
}
